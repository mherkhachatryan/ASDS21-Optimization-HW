{
 "cells": [
  {
   "cell_type": "code",
   "execution_count": 8,
   "metadata": {
    "collapsed": true
   },
   "outputs": [],
   "source": [
    "from collections.abc import Iterable\n",
    "\n",
    "from numpy import exp, abs\n",
    "import pandas as pd\n",
    "\n",
    "\n",
    "def seq_a(n):\n",
    "    if n==0:\n",
    "        return 2\n",
    "    elif n>=1:\n",
    "        return seq_a(n-1) -1 + 2 / exp(seq_a(n-1))\n",
    "\n",
    "def seq_b(n):\n",
    "    if n==0:\n",
    "        return 2\n",
    "    elif n>=1:\n",
    "        return seq_b(n-1) + 1/5 - exp(seq_b(n-1)) / 10\n",
    "\n",
    "def seq_c(n):\n",
    "    if n ==1:\n",
    "        return 1\n",
    "    elif n==0:\n",
    "        return 2\n",
    "    elif n>=2:\n",
    "        x_n = seq_c(n-1)\n",
    "        x_n_1 = seq_c(n-2)\n",
    "        return x_n - (x_n - x_n_1) / (exp(x_n) - exp(x_n_1)) * (exp(x_n)-2)"
   ]
  },
  {
   "cell_type": "code",
   "execution_count": 9,
   "metadata": {
    "pycharm": {
     "name": "#%%\n"
    }
   },
   "outputs": [],
   "source": [
    "def get_limit_deviation(functions, n_0=5, seq_lim = math.log(2)):\n",
    "    \"\"\"Get for given functions absolute deviations from 1 to n_0th iteration.\n",
    "    \n",
    "    Parameters\n",
    "    ----------\n",
    "    functions : Iterable\n",
    "        list or arrays of functions for which sequences will be calculated.\n",
    "    n_0 : int, optional\n",
    "        x_nth point from 1 to that point series will be calculated.\n",
    "    seq_lim : float, optional\n",
    "        limit of the given sequences\n",
    "\n",
    "    Returns\n",
    "    -------\n",
    "    dict\n",
    "        Dictionary of sequence names as keys and values are function values\n",
    "        for every iteration.\n",
    "\n",
    "    Raises\n",
    "    ------\n",
    "    ValueError\n",
    "        When wrong type of argument is given.\n",
    "    \"\"\"\n",
    "\n",
    "    if not isinstance(functions, Iterable):\n",
    "        raise ValueError(f\"Should be a list of function,\"\n",
    "                         f\" but {type(functions)} is parsed\")\n",
    "    container = {}\n",
    "    for function in functions:\n",
    "        abs_deviation_list = []\n",
    "        for n in range(1, n_0+1):\n",
    "            abs_deviation = abs(function(n) - seq_lim)\n",
    "            abs_deviation_list.append(abs_deviation)\n",
    "        container[function.__name__] = abs_deviation_list\n",
    "\n",
    "    return container\n"
   ]
  },
  {
   "cell_type": "code",
   "execution_count": 10,
   "metadata": {
    "pycharm": {
     "name": "#%%\n"
    }
   },
   "outputs": [],
   "source": [
    "container = get_limit_deviation([seq_a, seq_b, seq_c], n_0=9, seq_lim=math.log(2))\n",
    "data = pd.DataFrame(container, index=range(1, 10))  # convert to dataframe for better visualization\n",
    "data.index.name = \"nth iteration\""
   ]
  },
  {
   "cell_type": "code",
   "execution_count": 11,
   "metadata": {
    "pycharm": {
     "name": "#%%\n"
    }
   },
   "outputs": [
    {
     "name": "stdout",
     "output_type": "stream",
     "text": [
      "                                         seq_a  \\\n",
      "nth iteration                                    \n",
      "1             0.577523385913280118408863472723   \n",
      "2             0.138810123180023281541650703730   \n",
      "3             0.009203403457221592809389676404   \n",
      "4             0.000042221690566890401896671392   \n",
      "5             0.000000000891323015395073525724   \n",
      "6             0.000000000000000000000000000000   \n",
      "7             0.000000000000000000000000000000   \n",
      "8             0.000000000000000000000000000000   \n",
      "9             0.000000000000000000000000000000   \n",
      "\n",
      "                                         seq_b  \\\n",
      "nth iteration                                    \n",
      "1             0.767947209546989806305816728127   \n",
      "2             0.536879758807338292037059090944   \n",
      "3             0.394747588478321476124222044746   \n",
      "4             0.297945675972165813227832131815   \n",
      "5             0.228527954649593634250948070985   \n",
      "6             0.177178223327758788130381617520   \n",
      "7             0.138409454329602499278450977727   \n",
      "8             0.108720316314135145852048935922   \n",
      "9             0.085750216066824536120805078099   \n",
      "\n",
      "                                         seq_c  \n",
      "nth iteration                                   \n",
      "1             0.306852819440054713773236017005  \n",
      "2             0.153070643966496500176788231329  \n",
      "3             0.021773367713503244402772907051  \n",
      "4             0.001618339382292055539380726259  \n",
      "5             0.000017549714095288493354019010  \n",
      "6             0.000000014196825048884420539252  \n",
      "7             0.000000000000124678045665405079  \n",
      "8             0.000000000000000111022302462516  \n",
      "9             0.000000000000000111022302462516  \n"
     ]
    }
   ],
   "source": [
    "with pd.option_context('display.float_format', '{:0.30f}'.format):\n",
    "    print(data)"
   ]
  },
  {
   "cell_type": "markdown",
   "metadata": {
    "pycharm": {
     "name": "#%% md\n"
    }
   },
   "source": [
    "Sequence c in first few iterations seems that's converging with quadratic speed, but in more iterations it's visible that it's converging with sub-quadratic speed and faster than linear, hence it's super linear and sub-quadratic.\n",
    "\n",
    "Sequence b is converging with sub linear speed, because 0 after decimal point is visible only at last step.\n",
    "\n",
    "Sequence a is quadratic and after some point it's exactly it's limit.\n",
    "\n"
   ]
  },
  {
   "cell_type": "markdown",
   "metadata": {
    "pycharm": {
     "name": "#%% md\n"
    }
   },
   "source": []
  }
 ],
 "metadata": {
  "kernelspec": {
   "display_name": "Python 3",
   "language": "python",
   "name": "python3"
  },
  "language_info": {
   "codemirror_mode": {
    "name": "ipython",
    "version": 3
   },
   "file_extension": ".py",
   "mimetype": "text/x-python",
   "name": "python",
   "nbconvert_exporter": "python",
   "pygments_lexer": "ipython3",
   "version": "3.8.5"
  }
 },
 "nbformat": 4,
 "nbformat_minor": 1
}